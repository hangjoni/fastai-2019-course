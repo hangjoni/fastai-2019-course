{
 "cells": [
  {
   "cell_type": "markdown",
   "metadata": {},
   "source": [
    "Let's build an MNIST image recognition model using the saved functions. Goal is to get used to the callback system built in class"
   ]
  },
  {
   "cell_type": "code",
   "execution_count": 38,
   "metadata": {},
   "outputs": [
    {
     "name": "stdout",
     "output_type": "stream",
     "text": [
      "The autoreload extension is already loaded. To reload it, use:\n",
      "  %reload_ext autoreload\n"
     ]
    }
   ],
   "source": [
    "%load_ext autoreload\n",
    "%autoreload 2\n",
    "\n",
    "%matplotlib inline\n",
    "\n",
    "import torch.nn.functional as F\n",
    "import matplotlib.pyplot as plt\n",
    "\n",
    "from exp.nb import *"
   ]
  },
  {
   "cell_type": "markdown",
   "metadata": {},
   "source": [
    "## Load data"
   ]
  },
  {
   "cell_type": "code",
   "execution_count": 5,
   "metadata": {},
   "outputs": [
    {
     "name": "stdout",
     "output_type": "stream",
     "text": [
      "Length of train and test set 60000 10000\n"
     ]
    }
   ],
   "source": [
    "import torch\n",
    "from torchvision import datasets, transforms\n",
    "\n",
    "# Transform to convert images to PyTorch tensors\n",
    "transform = transforms.Compose([transforms.ToTensor()])\n",
    "\n",
    "# Download and load the training data\n",
    "trainset = datasets.MNIST(root='./data', train=True, download=True, transform=transform)\n",
    "trainloader = torch.utils.data.DataLoader(trainset, batch_size=64, shuffle=True)\n",
    "\n",
    "testset = datasets.MNIST(root='./data', train=False, download=True, transform=transform)\n",
    "testloader = torch.utils.data.DataLoader(testset, batch_size=64, shuffle=False)\n",
    "\n",
    "print('Length of train and test set', len(trainset), len(testset))"
   ]
  },
  {
   "cell_type": "code",
   "execution_count": 42,
   "metadata": {},
   "outputs": [],
   "source": [
    "nh, bs = 50, 64\n",
    "loss_func = F.cross_entropy\n",
    "\n",
    "train_ds = Dataset(trainset.data.float().div_(255), F.one_hot(trainset.targets, 10))\n",
    "valid_ds = Dataset(testset.data.float().div_(255), F.one_hot(testset.targets, 10))\n",
    "data = DataBunch(*get_dls(train_ds, valid_ds, bs), 10)\n"
   ]
  },
  {
   "cell_type": "markdown",
   "metadata": {},
   "source": [
    "## Visualizing data"
   ]
  },
  {
   "cell_type": "code",
   "execution_count": 46,
   "metadata": {},
   "outputs": [],
   "source": [
    "images, labels = next(iter(trainloader))"
   ]
  },
  {
   "cell_type": "code",
   "execution_count": 48,
   "metadata": {},
   "outputs": [
    {
     "data": {
      "text/plain": [
       "(torch.float32, torch.int64)"
      ]
     },
     "execution_count": 48,
     "metadata": {},
     "output_type": "execute_result"
    }
   ],
   "source": [
    "images[0].dtype, labels[0].dtype"
   ]
  },
  {
   "cell_type": "code",
   "execution_count": 55,
   "metadata": {},
   "outputs": [
    {
     "data": {
      "text/plain": [
       "tensor(1.)"
      ]
     },
     "execution_count": 55,
     "metadata": {},
     "output_type": "execute_result"
    }
   ],
   "source": [
    "images[0].max()"
   ]
  },
  {
   "cell_type": "code",
   "execution_count": 14,
   "metadata": {},
   "outputs": [
    {
     "data": {
      "text/plain": [
       "<matplotlib.image.AxesImage at 0x16b7fa610>"
      ]
     },
     "execution_count": 14,
     "metadata": {},
     "output_type": "execute_result"
    },
    {
     "data": {
      "image/png": "[encoded data removed]",
      "text/plain": [
       "<Figure size 640x480 with 1 Axes>"
      ]
     },
     "metadata": {},
     "output_type": "display_data"
    }
   ],
   "source": [
    "plt.imshow(images[2].view(28, 28))"
   ]
  },
  {
   "cell_type": "code",
   "execution_count": 16,
   "metadata": {},
   "outputs": [
    {
     "data": {
      "text/plain": [
       "tensor(0)"
      ]
     },
     "execution_count": 16,
     "metadata": {},
     "output_type": "execute_result"
    }
   ],
   "source": [
    "labels[2]"
   ]
  },
  {
   "cell_type": "markdown",
   "metadata": {},
   "source": [
    "## Basic model"
   ]
  },
  {
   "cell_type": "markdown",
   "metadata": {},
   "source": [
    "using a simple architecture with 2 fully connected layers"
   ]
  },
  {
   "cell_type": "code",
   "execution_count": 8,
   "metadata": {},
   "outputs": [],
   "source": [
    "learn= Learner(*get_model(data), loss_func=F.cross_entropy, data=data)"
   ]
  },
  {
   "cell_type": "code",
   "execution_count": 84,
   "metadata": {},
   "outputs": [],
   "source": [
    "def fit(epochs, learn):\n",
    "    for epoch in range(epochs):\n",
    "        learn.model.train()\n",
    "        for xb,yb in learn.data.train_dl:\n",
    "            loss = learn.loss_func(learn.model(xb), yb)\n",
    "            loss.backward()\n",
    "            learn.opt.step()\n",
    "            learn.opt.zero_grad()\n",
    "\n",
    "        learn.model.eval()\n",
    "        with torch.no_grad():\n",
    "            tot_loss,tot_acc = 0.,0.\n",
    "            for xb,yb in learn.data.valid_dl:\n",
    "                pred = learn.model(xb)\n",
    "                tot_loss += learn.loss_func(pred, yb)\n",
    "                tot_acc  += accuracy(pred,yb)\n",
    "        nv = len(learn.data.valid_dl)\n",
    "        print(epoch, tot_loss/nv, tot_acc/nv)\n",
    "    return tot_loss/nv, tot_acc/nv"
   ]
  },
  {
   "cell_type": "code",
   "execution_count": 87,
   "metadata": {},
   "outputs": [
    {
     "name": "stdout",
     "output_type": "stream",
     "text": [
      "0 tensor(2.1107) tensor(0.9000)\n"
     ]
    }
   ],
   "source": [
    "loss,acc = fit(1, learn)"
   ]
  },
  {
   "cell_type": "markdown",
   "metadata": {},
   "source": [
    "## Callbacks"
   ]
  },
  {
   "cell_type": "markdown",
   "metadata": {},
   "source": [
    "### V1"
   ]
  },
  {
   "cell_type": "code",
   "execution_count": 47,
   "metadata": {},
   "outputs": [],
   "source": [
    "def one_batch(xb, yb, cbh):\n",
    "    \"\"\"given a batch and callback handler\"\"\"\n",
    "    if not cbh.begin_batch(xb, yb): return\n",
    "    loss = cbh.learn.loss_func(cbh.learn.model(xb), yb)\n",
    "    if not cbh.after_loss(loss): return\n",
    "    loss.backward()\n",
    "    if cbh.after_backward(): cbh.learn.opt.step()\n",
    "    if cbh.after_step(): cbh.learn.opt.zero_grad()\n",
    "\n",
    "def all_batches(dl, cbh):\n",
    "    print('all_batches, cbh.learn.stop is ', cbh.learn.stop)\n",
    "    for xb,yb in dl:\n",
    "        one_batch(xb, yb, cbh)\n",
    "        if cbh.do_stop():\n",
    "            print('cbh.learn.stop is', cbh.learn.stop) \n",
    "            return\n",
    "\n",
    "def fit(epochs, learn, cbh):\n",
    "    if not cbh.begin_fit(learn): return\n",
    "    for epoch in range(epochs):\n",
    "        if not cbh.begin_epoch(epoch): continue\n",
    "        print('fitting')\n",
    "        all_batches(learn.data.train_dl, cbh)\n",
    "\n",
    "        if cbh.begin_validate():\n",
    "            with torch.no_grad():\n",
    "                print('validating, cbh.learn.stop is ', cbh.learn.stop)\n",
    "                all_batches(learn.data.valid_dl, cbh)\n",
    "        if cbh.do_stop() or not cbh.after_epoch(): break\n",
    "    cbh.after_fit()\n"
   ]
  },
  {
   "cell_type": "code",
   "execution_count": 37,
   "metadata": {},
   "outputs": [],
   "source": [
    "class Callback():\n",
    "    def begin_fit(self, learn):\n",
    "        self.learn = learn\n",
    "        return True\n",
    "    def after_fit(self): return True\n",
    "    def begin_epoch(self, epoch):\n",
    "        self.epoch=epoch\n",
    "        return True\n",
    "    def begin_validate(self): return True\n",
    "    def after_epoch(self): return True\n",
    "    def begin_batch(self, xb, yb):\n",
    "        self.xb, self.yb = xb, yb\n",
    "        return True\n",
    "    def after_loss(self, loss):\n",
    "        self.loss = loss\n",
    "        return True\n",
    "    def after_backward(self): return True\n",
    "    def after_step(self): return True"
   ]
  },
  {
   "cell_type": "code",
   "execution_count": 64,
   "metadata": {},
   "outputs": [],
   "source": [
    "class CallbackHandler():\n",
    "    def __init__(self, cbs=None):\n",
    "        self.cbs = cbs if cbs else []\n",
    "\n",
    "    def begin_fit(self, learn):\n",
    "        print('begin fit is called!!')\n",
    "        self.learn, self.in_train = learn, True\n",
    "        learn.stop = False\n",
    "        res = True\n",
    "        for cb in self.cbs: res = res and cb.begin_fit(learn)\n",
    "        return res # if any of the callbacks return False, stop\n",
    "    \n",
    "    def after_fit(self):\n",
    "        res = not self.in_train # if we didn't do training, don't do validation\n",
    "        for cb in self.cbs: res = res and cb.after_fit()\n",
    "        return res\n",
    "\n",
    "    def begin_epoch(self, epoch):\n",
    "        self.learn.model.train()\n",
    "        self.in_train = True\n",
    "        res = True\n",
    "        for cb in self.cbs: res = res and cb.begin_epoch(epoch)\n",
    "        return res\n",
    "\n",
    "    def begin_validate(self):\n",
    "        self.learn.model.eval()\n",
    "        self.in_train=False\n",
    "        res = True\n",
    "        for cb in self.cbs: res = res and cb.begin_validate()\n",
    "        return res\n",
    "\n",
    "    def after_epoch(self):\n",
    "        res = True\n",
    "        for cb in self.cbs: res = res and cb.after_epoch()\n",
    "        return res\n",
    "    \n",
    "    def begin_batch(self, xb, yb):\n",
    "        res = True\n",
    "        for cb in self.cbs: res = res and cb.begin_batch(xb, yb)\n",
    "        return res\n",
    "\n",
    "    def after_loss(self, loss):\n",
    "        res = self.in_train\n",
    "        for cb in self.cbs: res = res and cb.after_loss(loss)\n",
    "        return res\n",
    "\n",
    "    def after_backward(self):\n",
    "        res = True\n",
    "        for cb in self.cbs: res = res and cb.after_backward()\n",
    "        return res\n",
    "\n",
    "    def after_step(self):\n",
    "        res = True\n",
    "        for cb in self.cbs: res = res and cb.after_step()\n",
    "        return res\n",
    "    \n",
    "    def do_stop(self):\n",
    "        try:  \n",
    "            print('inside do_stop', self.learn.stop, 'id is', 'none' if not hasattr(self.learn, 'id') else self.learn.id)   \n",
    "            return self.learn.stop # stop if there is signal to stop from self.learn\n",
    "        finally: pass#self.learn.stop = False # the stop signal does not persist to the next all_batches\n",
    "        "
   ]
  },
  {
   "cell_type": "code",
   "execution_count": 54,
   "metadata": {},
   "outputs": [],
   "source": [
    "class Testcallback(Callback):\n",
    "    def begin_fit(self, learn):\n",
    "        super().begin_fit(learn)\n",
    "        self.n_iters = 0\n",
    "        return True\n",
    "\n",
    "    def begin_batch(self, xb, yb):\n",
    "        super().begin_batch(xb, yb)\n",
    "        print('batch', self.n_iters)\n",
    "        return True \n",
    "\n",
    "    def after_step(self):\n",
    "        self.n_iters += 1\n",
    "        #print(self.n_iters)\n",
    "        if self.n_iters > 10: \n",
    "            self.learn.id = 3\n",
    "            self.learn.stop = True\n",
    "        return True "
   ]
  },
  {
   "cell_type": "code",
   "execution_count": 65,
   "metadata": {},
   "outputs": [
    {
     "name": "stdout",
     "output_type": "stream",
     "text": [
      "begin fit is called!!\n",
      "fitting\n",
      "all_batches, cbh.learn.stop is  False\n",
      "batch 0\n",
      "inside do_stop False id is 3\n",
      "batch 1\n",
      "inside do_stop False id is 3\n",
      "batch 2\n",
      "inside do_stop False id is 3\n",
      "batch 3\n",
      "inside do_stop False id is 3\n",
      "batch 4\n",
      "inside do_stop False id is 3\n",
      "batch 5\n",
      "inside do_stop False id is 3\n",
      "batch 6\n",
      "inside do_stop False id is 3\n",
      "batch 7\n",
      "inside do_stop False id is 3\n",
      "batch 8\n",
      "inside do_stop False id is 3\n",
      "batch 9\n",
      "inside do_stop False id is 3\n",
      "batch 10\n",
      "inside do_stop True id is 3\n",
      "cbh.learn.stop is True\n",
      "validating, cbh.learn.stop is  True\n",
      "all_batches, cbh.learn.stop is  True\n",
      "batch 11\n",
      "inside do_stop True id is 3\n",
      "cbh.learn.stop is True\n",
      "inside do_stop True id is 3\n"
     ]
    }
   ],
   "source": [
    "fit(1, learn, cbh=CallbackHandler([Testcallback()]))"
   ]
  },
  {
   "cell_type": "markdown",
   "metadata": {},
   "source": [
    "this code is very hard to debug, there are 3 classes modifying each other and store the other as attribute\n",
    "\n",
    "also the callback trigger was called from inside training loop, making it even more complicated"
   ]
  },
  {
   "cell_type": "markdown",
   "metadata": {},
   "source": [
    "### Improved callbacks\n",
    "\n",
    "we combine the training loop function with the callback handler into the same object called Runner. Runner accepts a list of callbacks when initializing\n",
    "\n",
    "callback is its own object, it gets passed the runner object when needed"
   ]
  },
  {
   "cell_type": "code",
   "execution_count": 39,
   "metadata": {},
   "outputs": [],
   "source": [
    "learn = Learner(*get_model(data), loss_func, data)"
   ]
  },
  {
   "cell_type": "code",
   "execution_count": 40,
   "metadata": {},
   "outputs": [],
   "source": [
    "stats = AvgStatsCallback(['accuracy'], [accuracy])\n",
    "run = Runner(cbs=stats)"
   ]
  },
  {
   "cell_type": "code",
   "execution_count": 41,
   "metadata": {},
   "outputs": [
    {
     "name": "stdout",
     "output_type": "stream",
     "text": [
      "train: loss 2.14, accuracy 0.90\n",
      "valid: loss 2.11, accuracy 0.90\n",
      "train: loss 2.11, accuracy 0.90\n",
      "valid: loss 2.11, accuracy 0.90\n"
     ]
    }
   ],
   "source": [
    "run.fit(2, learn)"
   ]
  },
  {
   "cell_type": "markdown",
   "metadata": {},
   "source": [
    "- We improved the AvgStatsCallback from Jeremy's version by printing also the name of the metrics being avg and printed\n",
    "- AngStatsCallback shows the running average of all the metrics it was asked to keep track of, including loss by default"
   ]
  },
  {
   "cell_type": "markdown",
   "metadata": {},
   "source": [
    "## Anneal"
   ]
  },
  {
   "cell_type": "code",
   "execution_count": null,
   "metadata": {},
   "outputs": [],
   "source": []
  }
 ],
 "metadata": {
  "kernelspec": {
   "display_name": "fastai",
   "language": "python",
   "name": "python3"
  },
  "language_info": {
   "codemirror_mode": {
    "name": "ipython",
    "version": 3
   },
   "file_extension": ".py",
   "mimetype": "text/x-python",
   "name": "python",
   "nbconvert_exporter": "python",
   "pygments_lexer": "ipython3",
   "version": "3.9.18"
  }
 },
 "nbformat": 4,
 "nbformat_minor": 2
}
